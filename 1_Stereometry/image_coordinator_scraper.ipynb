{
 "cells": [
  {
   "cell_type": "markdown",
   "id": "b0340f6a",
   "metadata": {},
   "source": [
    "## Preliminaries"
   ]
  },
  {
   "cell_type": "code",
   "execution_count": 1,
   "id": "70addd07",
   "metadata": {},
   "outputs": [],
   "source": [
    "import os\n",
    "import cv2\n",
    "import numpy as np\n",
    "import pandas as pd"
   ]
  },
  {
   "cell_type": "markdown",
   "id": "dfbed921",
   "metadata": {},
   "source": [
    "## Point coordinate detection"
   ]
  },
  {
   "cell_type": "code",
   "execution_count": 2,
   "id": "083521a1",
   "metadata": {},
   "outputs": [
    {
     "name": "stdout",
     "output_type": "stream",
     "text": [
      "      x    y\n",
      "0   253  203\n",
      "1  1975  217\n",
      "2  1191  626\n",
      "3   627  723\n",
      "4  1670  732\n"
     ]
    }
   ],
   "source": [
    "# Load image from Pictures/ directory\n",
    "img = cv2.imread('Pictures/3.png')\n",
    "\n",
    "# Convert img to HSV format\n",
    "hsv = cv2.cvtColor(img, cv2.COLOR_BGR2HSV)\n",
    "\n",
    "# Define HSV threshold range for neon green points\n",
    "lower_green = np.array([40, 100, 100])\n",
    "upper_green = np.array([80, 255, 255])\n",
    "\n",
    "# Apply threshold on the image\n",
    "mask = cv2.inRange(hsv, lower_green, upper_green)\n",
    "\n",
    "# Clean up mask, merge broken regions and remove noise \n",
    "kernel = np.ones((5,5), np.uint8)\n",
    "mask = cv2.morphologyEx(mask, cv2.MORPH_CLOSE, kernel)\n",
    "mask = cv2.morphologyEx(mask, cv2.MORPH_OPEN, kernel)\n",
    "\n",
    "# Connected components\n",
    "num, labels, stats, centroids = cv2.connectedComponentsWithStats(mask)\n",
    "\n",
    "points = []\n",
    "for i in range(1, num):  # skip background (label 0)\n",
    "    cx, cy = centroids[i]\n",
    "    points.append((int(cx), int(cy)))\n",
    "\n",
    "# Convert to DataFrame\n",
    "df = pd.DataFrame(points, columns=[\"x\", \"y\"])\n",
    "\n",
    "print(df.head())"
   ]
  },
  {
   "cell_type": "markdown",
   "id": "e1f0c381",
   "metadata": {},
   "source": [
    "## Draw red dots on given green dots for verification"
   ]
  },
  {
   "cell_type": "code",
   "execution_count": 3,
   "id": "a3bdc2d5",
   "metadata": {},
   "outputs": [
    {
     "name": "stdout",
     "output_type": "stream",
     "text": [
      "       x     y\n",
      "0    253  2671\n",
      "1   1993  2642\n",
      "2   1279  2618\n",
      "3   1489  2579\n",
      "4    965  2563\n",
      "5   1672  2241\n",
      "6    634  2241\n",
      "7   1496  2231\n",
      "8    976  2229\n",
      "9   1489  2048\n",
      "10   980  2047\n",
      "11  1287  2045\n",
      "12  1191  2002\n",
      "13  1679  1988\n",
      "14   639  1986\n",
      "15  1197  1796\n",
      "16  1672  1741\n",
      "17   636  1736\n",
      "18  1190  1579\n",
      "19    54  1573\n",
      "20  1672  1489\n",
      "21   634  1482\n",
      "22  1194  1365\n",
      "23  1670  1239\n",
      "24   632  1230\n",
      "25  1191  1149\n",
      "26  1672   984\n",
      "27   627   975\n",
      "28  1195   933\n",
      "29  1670   732\n",
      "30   627   723\n",
      "31  1191   626\n",
      "32  1975   217\n",
      "33   253   203\n"
     ]
    },
    {
     "data": {
      "text/plain": [
       "True"
      ]
     },
     "execution_count": 3,
     "metadata": {},
     "output_type": "execute_result"
    }
   ],
   "source": [
    "# Load image\n",
    "img = cv2.imread('Pictures/3.png')\n",
    "output = img.copy()\n",
    "\n",
    "# Convert to HSV\n",
    "hsv = cv2.cvtColor(img, cv2.COLOR_BGR2HSV)\n",
    "\n",
    "# Define HSV range for neon green (adjust if needed)\n",
    "lower_green = np.array([40, 100, 100])\n",
    "upper_green = np.array([80, 255, 255])\n",
    "\n",
    "# Threshold the image\n",
    "mask = cv2.inRange(hsv, lower_green, upper_green)\n",
    "\n",
    "# Find contours\n",
    "contours, _ = cv2.findContours(mask, cv2.RETR_EXTERNAL, cv2.CHAIN_APPROX_SIMPLE)\n",
    "\n",
    "# Appending and drawing points\n",
    "points = []\n",
    "for cnt in contours:\n",
    "    M = cv2.moments(cnt)\n",
    "    if M[\"m00\"] > 0:\n",
    "        cx = int(M[\"m10\"] / M[\"m00\"])\n",
    "        cy = int(M[\"m01\"] / M[\"m00\"])\n",
    "        points.append((cx, cy))\n",
    "        \n",
    "        # Draw a red circle on each detected point\n",
    "        cv2.circle(output, (cx, cy), 10, (0, 0, 255), -1)  # red filled circle\n",
    "\n",
    "# Convert to DataFrame\n",
    "df = pd.DataFrame(points, columns=[\"x\", \"y\"])\n",
    "print(df)\n",
    "\n",
    "# Save output\n",
    "cv2.imwrite(\"detected_points.png\", output)"
   ]
  },
  {
   "cell_type": "markdown",
   "id": "0e4321ff",
   "metadata": {},
   "source": [
    "## Final functions"
   ]
  },
  {
   "cell_type": "code",
   "execution_count": 4,
   "id": "3fe35728",
   "metadata": {},
   "outputs": [],
   "source": [
    "# ======================================================\n",
    "# 1. Detect green dots in one image\n",
    "# ======================================================\n",
    "def detect_green_dots(image_path):\n",
    "    \"\"\"\n",
    "    Detect neon-green dots in an image using HSV thresholding + connected components.\n",
    "    Returns a list of (x, y) centroids.\n",
    "    \"\"\"\n",
    "    img = cv2.imread(image_path)\n",
    "    if img is None:\n",
    "        raise ValueError(f\"Could not read image: {image_path}\")\n",
    "\n",
    "    # Convert to HSV\n",
    "    hsv = cv2.cvtColor(img, cv2.COLOR_BGR2HSV)\n",
    "\n",
    "    # Define HSV threshold range for neon green points\n",
    "    lower_green = np.array([40, 100, 100])\n",
    "    upper_green = np.array([80, 255, 255])\n",
    "\n",
    "    # Apply threshold\n",
    "    mask = cv2.inRange(hsv, lower_green, upper_green)\n",
    "\n",
    "    # Morphological cleaning\n",
    "    kernel = np.ones((5, 5), np.uint8)\n",
    "    mask = cv2.morphologyEx(mask, cv2.MORPH_CLOSE, kernel)\n",
    "    mask = cv2.morphologyEx(mask, cv2.MORPH_OPEN, kernel)\n",
    "\n",
    "    # Connected components\n",
    "    num, labels, stats, centroids = cv2.connectedComponentsWithStats(mask)\n",
    "\n",
    "    points = []\n",
    "    for i in range(1, num):  # skip background\n",
    "        cx, cy = centroids[i]\n",
    "        points.append((int(cx), int(cy)))\n",
    "\n",
    "    return points\n",
    "\n",
    "\n",
    "# ======================================================\n",
    "# 2. Process images (single file or folder)\n",
    "# ======================================================\n",
    "def process_images(input_path, output_folder=\"detections\"):\n",
    "    \"\"\"\n",
    "    Process either a single image or all images in a folder.\n",
    "    Each image produces its own CSV with detected green dots.\n",
    "    \"\"\"\n",
    "    if not os.path.exists(output_folder):\n",
    "        os.makedirs(output_folder)\n",
    "\n",
    "    # Case 1: single image\n",
    "    if os.path.isfile(input_path):\n",
    "        files = [input_path]\n",
    "\n",
    "    # Case 2: folder of images\n",
    "    elif os.path.isdir(input_path):\n",
    "        files = [\n",
    "            os.path.join(input_path, f)\n",
    "            for f in os.listdir(input_path)\n",
    "            if f.lower().endswith(('.png', '.jpg', '.jpeg', '.tif', '.bmp'))\n",
    "        ]\n",
    "    else:\n",
    "        raise ValueError(f\"Path not found: {input_path}\")\n",
    "\n",
    "    for f in files:\n",
    "        try:\n",
    "            detections = detect_green_dots(f)\n",
    "        except Exception as e:\n",
    "            print(f\"❌ Error processing {f}: {e}\")\n",
    "            continue\n",
    "\n",
    "        out_name = os.path.splitext(os.path.basename(f))[0] + \".csv\"\n",
    "        out_path = os.path.join(output_folder, out_name)\n",
    "\n",
    "        df = pd.DataFrame(detections, columns=[\"x\", \"y\"])\n",
    "        df.to_csv(out_path, index=False)\n",
    "\n",
    "        print(f\"✅ Processed {f}, found {len(df)} dots → saved {out_path}\")\n"
   ]
  },
  {
   "cell_type": "code",
   "execution_count": 5,
   "id": "cf2ed934",
   "metadata": {},
   "outputs": [
    {
     "name": "stdout",
     "output_type": "stream",
     "text": [
      "✅ Processed Pictures/3.png, found 33 dots → saved detections\\3.csv\n"
     ]
    }
   ],
   "source": [
    "process_images(\"Pictures/3.png\")"
   ]
  }
 ],
 "metadata": {
  "kernelspec": {
   "display_name": "spp",
   "language": "python",
   "name": "python3"
  },
  "language_info": {
   "codemirror_mode": {
    "name": "ipython",
    "version": 3
   },
   "file_extension": ".py",
   "mimetype": "text/x-python",
   "name": "python",
   "nbconvert_exporter": "python",
   "pygments_lexer": "ipython3",
   "version": "3.12.11"
  }
 },
 "nbformat": 4,
 "nbformat_minor": 5
}
