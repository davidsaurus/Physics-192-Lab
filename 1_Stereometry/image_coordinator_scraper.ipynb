{
 "cells": [
  {
   "cell_type": "markdown",
   "id": "b0340f6a",
   "metadata": {},
   "source": [
    "## Preliminaries"
   ]
  },
  {
   "cell_type": "code",
<<<<<<< HEAD
   "execution_count": 1,
=======
   "execution_count": 2,
>>>>>>> 9efd7c9 (updated tinker branch)
   "id": "70addd07",
   "metadata": {},
   "outputs": [],
   "source": [
    "import os\n",
    "import cv2\n",
    "import numpy as np\n",
    "import pandas as pd"
   ]
  },
  {
   "cell_type": "markdown",
   "id": "dfbed921",
   "metadata": {},
   "source": [
    "## Point coordinate detection"
   ]
  },
  {
   "cell_type": "code",
<<<<<<< HEAD
   "execution_count": 2,
=======
   "execution_count": 8,
>>>>>>> 9efd7c9 (updated tinker branch)
   "id": "083521a1",
   "metadata": {},
   "outputs": [
    {
     "name": "stdout",
     "output_type": "stream",
     "text": [
      "      x    y\n",
      "0   436  201\n",
      "1  2156  226\n",
      "2  1334  630\n",
      "3   791  731\n",
      "4  1831  743\n"
     ]
    }
   ],
   "source": [
    "# Load image from Pictures/ directory\n",
    "img = cv2.imread('Pictures/4.png')\n",
    "\n",
    "# Convert img to HSV format\n",
    "hsv = cv2.cvtColor(img, cv2.COLOR_BGR2HSV)\n",
    "\n",
    "# Define HSV threshold range for neon green points\n",
    "lower_green = np.array([40, 100, 100])\n",
    "upper_green = np.array([80, 255, 255])\n",
    "\n",
    "# Apply threshold on the image\n",
    "mask = cv2.inRange(hsv, lower_green, upper_green)\n",
    "\n",
    "# Clean up mask, merge broken regions and remove noise \n",
    "kernel = np.ones((5,5), np.uint8)\n",
    "mask = cv2.morphologyEx(mask, cv2.MORPH_CLOSE, kernel)\n",
    "mask = cv2.morphologyEx(mask, cv2.MORPH_OPEN, kernel)\n",
    "\n",
    "# Connected components\n",
    "num, labels, stats, centroids = cv2.connectedComponentsWithStats(mask)\n",
    "\n",
    "points = []\n",
    "for i in range(1, num):  # skip background (label 0)\n",
    "    cx, cy = centroids[i]\n",
    "    points.append((int(cx), int(cy)))\n",
    "\n",
    "# Convert to DataFrame\n",
    "df = pd.DataFrame(points, columns=[\"x\", \"y\"])\n",
    "\n",
    "print(df.head())"
   ]
  },
  {
   "cell_type": "markdown",
   "id": "e1f0c381",
   "metadata": {},
   "source": [
    "## Draw red dots on given green dots for verification"
   ]
  },
  {
   "cell_type": "code",
<<<<<<< HEAD
   "execution_count": 3,
=======
   "execution_count": 9,
>>>>>>> 9efd7c9 (updated tinker branch)
   "id": "a3bdc2d5",
   "metadata": {},
   "outputs": [
    {
     "name": "stdout",
     "output_type": "stream",
     "text": [
      "       x     y\n",
      "0    421  2664\n",
      "1   2158  2654\n",
      "2   1429  2620\n",
      "3   1630  2587\n",
      "4   1105  2563\n",
      "5   1824  2250\n",
      "6    789  2246\n",
      "7   1639  2240\n",
      "8   1113  2227\n",
      "9   1637  2055\n",
      "10  1441  2051\n",
      "11  1124  2046\n",
      "12  2170  2045\n",
      "13  1328  2006\n",
      "14  1826  1998\n",
      "15   793  1987\n",
      "16  1331  1796\n",
      "17  1828  1748\n",
      "18   795  1737\n",
      "19  1332  1582\n",
      "20  1828  1497\n",
      "21   797  1484\n",
      "22  1333  1369\n",
      "23  1828  1248\n",
      "24   796  1232\n",
      "25  1333  1154\n",
      "26  1829   994\n",
      "27   794   981\n",
      "28  1333   939\n",
      "29  1831   743\n",
      "30   791   731\n",
      "31  1334   630\n",
      "32  2156   226\n",
      "33   436   201\n"
     ]
    },
    {
     "data": {
      "text/plain": [
       "True"
      ]
     },
<<<<<<< HEAD
     "execution_count": 3,
=======
     "execution_count": 9,
>>>>>>> 9efd7c9 (updated tinker branch)
     "metadata": {},
     "output_type": "execute_result"
    }
   ],
   "source": [
    "# Load image\n",
    "img = cv2.imread('Pictures/4.png')\n",
    "output = img.copy()\n",
    "\n",
    "# Convert to HSV\n",
    "hsv = cv2.cvtColor(img, cv2.COLOR_BGR2HSV)\n",
    "\n",
    "# Define HSV range for neon green (adjust if needed)\n",
    "lower_green = np.array([40, 100, 100])\n",
    "upper_green = np.array([80, 255, 255])\n",
    "\n",
    "# Threshold the image\n",
    "mask = cv2.inRange(hsv, lower_green, upper_green)\n",
    "\n",
    "# Find contours\n",
    "contours, _ = cv2.findContours(mask, cv2.RETR_EXTERNAL, cv2.CHAIN_APPROX_SIMPLE)\n",
    "\n",
    "# Appending and drawing points\n",
    "points = []\n",
    "for cnt in contours:\n",
    "    M = cv2.moments(cnt)\n",
    "    if M[\"m00\"] > 0:\n",
    "        cx = int(M[\"m10\"] / M[\"m00\"])\n",
    "        cy = int(M[\"m01\"] / M[\"m00\"])\n",
    "        points.append((cx, cy))\n",
    "        \n",
    "        # Draw a red circle on each detected point\n",
    "        cv2.circle(output, (cx, cy), 10, (0, 0, 255), -1)  # red filled circle\n",
    "\n",
    "# Convert to DataFrame\n",
    "df = pd.DataFrame(points, columns=[\"x\", \"y\"])\n",
    "print(df)\n",
    "\n",
    "# Save output\n",
    "cv2.imwrite(\"detected_points.png\", output)"
   ]
  },
  {
   "cell_type": "markdown",
   "id": "0e4321ff",
   "metadata": {},
   "source": [
    "## Final functions"
   ]
  },
  {
   "cell_type": "code",
<<<<<<< HEAD
   "execution_count": 4,
=======
   "execution_count": null,
   "id": "2dc3488f",
   "metadata": {},
   "outputs": [],
   "source": []
  },
  {
   "cell_type": "markdown",
   "id": "d67207e9",
   "metadata": {},
   "source": []
  },
  {
   "cell_type": "code",
   "execution_count": null,
   "id": "5b2d6651",
   "metadata": {},
   "outputs": [],
   "source": [
    "import cv2\n",
    "import pandas as pd\n",
    "import numpy as np\n",
    "\n",
    "# Load image\n",
    "img = cv2.imread('Pictures/4.png')\n",
    "output = img.copy()\n",
    "\n",
    "# Read CSV with points\n",
    "points_df = pd.read_csv('detections/4.csv')  # Make sure this has 'x' and 'y' columns\n",
    "\n",
    "# Draw text labels for each point\n",
    "for idx, row in points_df.iterrows():\n",
    "    x, y = int(row['x']), int(row['y'])\n",
    "\n",
    "    # Draw the index as text near the point\n",
    "    cv2.putText(output, str(idx), (x + 10, y), cv2.FONT_HERSHEY_SIMPLEX,\n",
    "                0.5, (0, 0, 255), 1, cv2.LINE_AA)\n",
    "\n",
    "# Save the output image\n",
    "cv2.imwrite('annotated_points.png', output)"
   ]
  },
  {
   "cell_type": "code",
   "execution_count": 5,
>>>>>>> 9efd7c9 (updated tinker branch)
   "id": "3fe35728",
   "metadata": {},
   "outputs": [],
   "source": [
    "# ======================================================\n",
    "# 1. Detect green dots in one image\n",
    "# ======================================================\n",
    "def detect_green_dots(image_path):\n",
    "    \"\"\"\n",
    "    Detect neon-green dots in an image using HSV thresholding + connected components.\n",
    "    Returns a list of (x, y) centroids.\n",
    "    \"\"\"\n",
    "    img = cv2.imread(image_path)\n",
    "    if img is None:\n",
    "        raise ValueError(f\"Could not read image: {image_path}\")\n",
    "\n",
    "    # Convert to HSV\n",
    "    hsv = cv2.cvtColor(img, cv2.COLOR_BGR2HSV)\n",
    "\n",
    "    # Define HSV threshold range for neon green points\n",
    "    lower_green = np.array([40, 100, 100])\n",
    "    upper_green = np.array([80, 255, 255])\n",
    "\n",
    "    # Apply threshold\n",
    "    mask = cv2.inRange(hsv, lower_green, upper_green)\n",
    "\n",
    "    # Morphological cleaning\n",
    "    kernel = np.ones((5, 5), np.uint8)\n",
    "    mask = cv2.morphologyEx(mask, cv2.MORPH_CLOSE, kernel)\n",
    "    mask = cv2.morphologyEx(mask, cv2.MORPH_OPEN, kernel)\n",
    "\n",
    "    # Connected components\n",
    "    num, labels, stats, centroids = cv2.connectedComponentsWithStats(mask)\n",
    "\n",
    "    points = []\n",
    "    for i in range(1, num):  # skip background\n",
    "        cx, cy = centroids[i]\n",
    "        points.append((int(cx), int(cy)))\n",
    "\n",
    "    return points\n",
    "\n",
    "\n",
    "# ======================================================\n",
    "# 2. Process images (single file or folder)\n",
    "# ======================================================\n",
    "def process_images(input_path, output_folder=\"detections\"):\n",
    "    \"\"\"\n",
    "    Process either a single image or all images in a folder.\n",
    "    Each image produces its own CSV with detected green dots.\n",
    "    \"\"\"\n",
    "    if not os.path.exists(output_folder):\n",
    "        os.makedirs(output_folder)\n",
    "\n",
    "    # Case 1: single image\n",
    "    if os.path.isfile(input_path):\n",
    "        files = [input_path]\n",
    "\n",
    "    # Case 2: folder of images\n",
    "    elif os.path.isdir(input_path):\n",
    "        files = [\n",
    "            os.path.join(input_path, f)\n",
    "            for f in os.listdir(input_path)\n",
    "            if f.lower().endswith(('.png', '.jpg', '.jpeg', '.tif', '.bmp'))\n",
    "        ]\n",
    "    else:\n",
    "        raise ValueError(f\"Path not found: {input_path}\")\n",
    "\n",
    "    for f in files:\n",
    "        try:\n",
    "            detections = detect_green_dots(f)\n",
    "        except Exception as e:\n",
    "            print(f\"❌ Error processing {f}: {e}\")\n",
    "            continue\n",
    "\n",
    "        out_name = os.path.splitext(os.path.basename(f))[0] + \".csv\"\n",
    "        out_path = os.path.join(output_folder, out_name)\n",
    "\n",
    "        df = pd.DataFrame(detections, columns=[\"x\", \"y\"])\n",
    "        df.to_csv(out_path, index=False)\n",
    "\n",
    "        print(f\"✅ Processed {f}, found {len(df)} dots → saved {out_path}\")\n"
   ]
  },
  {
   "cell_type": "code",
<<<<<<< HEAD
   "execution_count": 5,
=======
   "execution_count": null,
>>>>>>> 9efd7c9 (updated tinker branch)
   "id": "cf2ed934",
   "metadata": {},
   "outputs": [
    {
     "name": "stdout",
     "output_type": "stream",
     "text": [
      "✅ Processed Pictures/3.png, found 33 dots → saved detections\\3.csv\n"
     ]
    }
   ],
   "source": [
    "process_images(\"Pictures/3.png\")"
   ]
  },
  {
   "cell_type": "code",
   "execution_count": 7,
   "id": "d48e101a",
   "metadata": {},
   "outputs": [
    {
     "name": "stdout",
     "output_type": "stream",
     "text": [
      "✅ Processed Pictures/4.png, found 34 dots → saved detections\\4.csv\n"
     ]
    }
   ],
   "source": [
    "process_images(\"Pictures/4.png\")"
   ]
  },
  {
   "cell_type": "code",
   "execution_count": null,
   "id": "5afc777b",
   "metadata": {},
   "outputs": [],
   "source": []
  }
 ],
 "metadata": {
  "kernelspec": {
   "display_name": "spp",
   "language": "python",
   "name": "python3"
  },
  "language_info": {
   "codemirror_mode": {
    "name": "ipython",
    "version": 3
   },
   "file_extension": ".py",
   "mimetype": "text/x-python",
   "name": "python",
   "nbconvert_exporter": "python",
   "pygments_lexer": "ipython3",
<<<<<<< HEAD
   "version": "3.12.11"
=======
   "version": "3.12.2"
>>>>>>> 9efd7c9 (updated tinker branch)
  }
 },
 "nbformat": 4,
 "nbformat_minor": 5
}
