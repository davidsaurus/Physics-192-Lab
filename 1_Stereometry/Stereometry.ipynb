{
 "cells": [
  {
   "cell_type": "markdown",
   "id": "d65c7848",
   "metadata": {},
   "source": [
    "# Stereometry Notebook"
   ]
  },
  {
   "cell_type": "markdown",
   "id": "83314494",
   "metadata": {},
   "source": [
    "## Preliminaries"
   ]
  },
  {
   "cell_type": "code",
   "execution_count": 9,
   "id": "bbea87e9",
   "metadata": {},
   "outputs": [],
   "source": [
    "import numpy as np\n",
    "import pandas as pd\n",
    "import cv2\n",
    "import matplotlib.pyplot as plt\n",
    "from mpl_toolkits import mplot3d\n",
    "import os"
   ]
  },
  {
   "cell_type": "markdown",
   "id": "46a4cee7",
   "metadata": {},
   "source": [
    "## Processing raw data"
   ]
  },
  {
   "cell_type": "markdown",
   "id": "f3c4b3a0",
   "metadata": {},
   "source": [
    "### Declaring functions"
   ]
  },
  {
   "cell_type": "code",
   "execution_count": 10,
   "id": "fc1c19cf",
   "metadata": {},
   "outputs": [],
   "source": [
    "# ======================================================\n",
    "# 1. Detect green dots in one image\n",
    "# ======================================================\n",
    "def detect_green_dots(image_path):\n",
    "    \"\"\"\n",
    "    Detect neon-green dots in an image using HSV thresholding + connected components.\n",
    "    Returns a list of (x, y) centroids.\n",
    "    \"\"\"\n",
    "    img = cv2.imread(image_path)\n",
    "    if img is None:\n",
    "        raise ValueError(f\"Could not read image: {image_path}\")\n",
    "\n",
    "    # Convert to HSV\n",
    "    hsv = cv2.cvtColor(img, cv2.COLOR_BGR2HSV)\n",
    "\n",
    "    # Define HSV threshold range for neon green points\n",
    "    lower_green = np.array([40, 100, 100])\n",
    "    upper_green = np.array([80, 255, 255])\n",
    "\n",
    "    # Apply threshold\n",
    "    mask = cv2.inRange(hsv, lower_green, upper_green)\n",
    "\n",
    "    # Morphological cleaning\n",
    "    kernel = np.ones((5, 5), np.uint8)\n",
    "    mask = cv2.morphologyEx(mask, cv2.MORPH_CLOSE, kernel)\n",
    "    mask = cv2.morphologyEx(mask, cv2.MORPH_OPEN, kernel)\n",
    "\n",
    "    # Connected components\n",
    "    num, labels, stats, centroids = cv2.connectedComponentsWithStats(mask)\n",
    "\n",
    "    points = []\n",
    "    for i in range(1, num):  # skip background\n",
    "        cx, cy = centroids[i]\n",
    "        points.append((int(cx), int(cy)))\n",
    "\n",
    "    return points\n",
    "\n",
    "\n",
    "# ======================================================\n",
    "# 2. Process images (single file or folder)\n",
    "# ======================================================\n",
    "def process_images(input_path, output_folder=\"detections\"):\n",
    "    \"\"\"\n",
    "    Process either a single image or all images in a folder.\n",
    "    Each image produces its own CSV with detected green dots.\n",
    "    \"\"\"\n",
    "    if not os.path.exists(output_folder):\n",
    "        os.makedirs(output_folder)\n",
    "\n",
    "    # Case 1: single image\n",
    "    if os.path.isfile(input_path):\n",
    "        files = [input_path]\n",
    "\n",
    "    # Case 2: folder of images\n",
    "    elif os.path.isdir(input_path):\n",
    "        files = [\n",
    "            os.path.join(input_path, f)\n",
    "            for f in os.listdir(input_path)\n",
    "            if f.lower().endswith(('.png', '.jpg', '.jpeg', '.tif', '.bmp'))\n",
    "        ]\n",
    "    else:\n",
    "        raise ValueError(f\"Path not found: {input_path}\")\n",
    "\n",
    "    for f in files:\n",
    "        try:\n",
    "            detections = detect_green_dots(f)\n",
    "        except Exception as e:\n",
    "            print(f\"❌ Error processing {f}: {e}\")\n",
    "            continue\n",
    "\n",
    "        out_name = os.path.splitext(os.path.basename(f))[0] + \".csv\"\n",
    "        out_path = os.path.join(output_folder, out_name)\n",
    "\n",
    "        df = pd.DataFrame(detections, columns=[\"x\", \"y\"])\n",
    "        df.to_csv(out_path, index=False)\n",
    "\n",
    "        print(f\"✅ Processed {f}, found {len(df)} dots → saved {out_path}\")\n"
   ]
  },
  {
   "cell_type": "markdown",
   "id": "57e96be0",
   "metadata": {},
   "source": [
    "### Calling functions"
   ]
  },
  {
   "cell_type": "code",
   "execution_count": 11,
   "id": "c1666f57",
   "metadata": {},
   "outputs": [
    {
     "name": "stdout",
     "output_type": "stream",
     "text": [
      "✅ Processed Pictures/3.png, found 33 dots → saved detections\\3.csv\n",
      "✅ Processed Pictures/4.png, found 34 dots → saved detections\\4.csv\n",
      "✅ Processed Pictures/5.png, found 33 dots → saved detections\\5.csv\n",
      "✅ Processed Pictures/6.png, found 17 dots → saved detections\\6.csv\n",
      "✅ Processed Pictures/7.png, found 0 dots → saved detections\\7.csv\n",
      "✅ Processed Pictures/8.png, found 0 dots → saved detections\\8.csv\n",
      "✅ Processed Pictures/9.png, found 0 dots → saved detections\\9.csv\n"
     ]
    }
   ],
   "source": [
    "for i in range(3, 10):\n",
    "    process_images(f\"Pictures/{i}.png\")"
   ]
  },
  {
   "cell_type": "markdown",
   "id": "5153520b",
   "metadata": {},
   "source": [
    "## Solving for Z components\n",
    "We are given the formula:\n",
    "$$ Z = \\frac{bf}{x_1 - x_2}. $$"
   ]
  },
  {
   "cell_type": "code",
   "execution_count": 4,
   "id": "9ecd25fb",
   "metadata": {},
   "outputs": [],
   "source": [
    "# Define function from equation above\n",
    "def z_solver(x1, x2, b, f):\n",
    "    return (b*f)/(x1-x2)"
   ]
  },
  {
   "cell_type": "markdown",
   "id": "bfbabb7d",
   "metadata": {},
   "source": [
    "## Coordinates of Sample Points"
   ]
  },
  {
   "cell_type": "code",
   "execution_count": null,
   "id": "e9621034",
   "metadata": {},
   "outputs": [],
   "source": [
    "# Ingest with pd.read_csv()"
   ]
  }
 ],
 "metadata": {
  "kernelspec": {
   "display_name": "spp",
   "language": "python",
   "name": "python3"
  },
  "language_info": {
   "codemirror_mode": {
    "name": "ipython",
    "version": 3
   },
   "file_extension": ".py",
   "mimetype": "text/x-python",
   "name": "python",
   "nbconvert_exporter": "python",
   "pygments_lexer": "ipython3",
   "version": "3.12.11"
  }
 },
 "nbformat": 4,
 "nbformat_minor": 5
}
