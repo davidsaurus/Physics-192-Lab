{
 "cells": [
  {
   "cell_type": "markdown",
   "id": "d65c7848",
   "metadata": {},
   "source": [
    "# Stereometry Notebook"
   ]
  },
  {
   "cell_type": "markdown",
   "id": "83314494",
   "metadata": {},
   "source": [
    "## Preliminaries"
   ]
  },
  {
   "cell_type": "code",
   "execution_count": 2,
   "id": "bbea87e9",
   "metadata": {},
   "outputs": [],
   "source": [
    "import numpy as np\n",
    "import pandas as pd\n",
    "import cv2\n",
    "import matplotlib.pyplot as plt\n",
    "from mpl_toolkits import mplot3d"
   ]
  },
  {
   "cell_type": "markdown",
   "id": "46a4cee7",
   "metadata": {},
   "source": [
    "## Processing raw data"
   ]
  },
  {
   "cell_type": "code",
   "execution_count": 3,
   "id": "c5479d99",
   "metadata": {},
   "outputs": [
    {
     "name": "stdout",
     "output_type": "stream",
     "text": [
      "     x1    x2      y\n",
      "0   253   568  146.5\n",
      "1  1975  2308  168.5\n",
      "2  1191  1445  583.5\n",
      "3   627   919  677.5\n",
      "4  1670  1971  689.0\n"
     ]
    }
   ],
   "source": [
    "# Load images from Pictures/ directory\n",
    "img1 = cv2.imread('Pictures/3.png')\n",
    "img2 = cv2.imread('Pictures/5.png')\n",
    "\n",
    "# Convert images to HSV format\n",
    "hsv1 = cv2.cvtColor(img1, cv2.COLOR_BGR2HSV)\n",
    "hsv2 = cv2.cvtColor(img2, cv2.COLOR_BGR2HSV)\n",
    "\n",
    "# Define HSV threshold range for neon green points\n",
    "lower_green = np.array([40, 100, 100])\n",
    "upper_green = np.array([80, 255, 255])\n",
    "\n",
    "# Apply threshold on the images\n",
    "mask1 = cv2.inRange(hsv1, lower_green, upper_green)\n",
    "mask2 = cv2.inRange(hsv2, lower_green, upper_green)\n",
    "\n",
    "# Clean up mask, merge broken regions and remove noise \n",
    "kernel = np.ones((5,5), np.uint8)\n",
    "# Image 1\n",
    "mask1 = cv2.morphologyEx(mask1, cv2.MORPH_CLOSE, kernel)\n",
    "mask1 = cv2.morphologyEx(mask1, cv2.MORPH_OPEN, kernel)\n",
    "# Image 2\n",
    "mask2 = cv2.morphologyEx(mask2, cv2.MORPH_CLOSE, kernel)\n",
    "mask2 = cv2.morphologyEx(mask2, cv2.MORPH_OPEN, kernel)\n",
    "\n",
    "# Connected components\n",
    "num1, labels1, stats1, centroids1 = cv2.connectedComponentsWithStats(mask1)\n",
    "num2, labels2, stats2, centroids2 = cv2.connectedComponentsWithStats(mask2)\n",
    "\n",
    "coords1 = []\n",
    "for i in range(1, num1):  # skip background (label 0)\n",
    "    cx, cy = centroids1[i]\n",
    "    coords1.append((int(cx), int(cy)))\n",
    "\n",
    "coords2 = []\n",
    "for i in range(1, num2):  # skip background (label 0)\n",
    "    cx, cy = centroids2[i]\n",
    "    coords2.append((int(cx), int(cy)))\n",
    "\n",
    "# Convert to DataFrame\n",
    "df1 = pd.DataFrame(coords1, columns=[\"x1\", \"y\"])\n",
    "df2 = pd.DataFrame(coords2, columns=[\"x2\", \"y\"])\n",
    "\n",
    "# print(df1.head())\n",
    "# print(df2.head())\n",
    "\n",
    "# Concatenate DataFrames into one with x1, x2, and an averaged y.\n",
    "df1[\"x2\"] = df2[\"x2\"]\n",
    "df1[\"y\"] = (df1[\"y\"] + df2[\"y\"]) / 2\n",
    "\n",
    "df = df1[[\"x1\", \"x2\", \"y\"]]\n",
    "\n",
    "# print(df1.head())\n",
    "print(df.head())"
   ]
  },
  {
   "cell_type": "markdown",
   "id": "5153520b",
   "metadata": {},
   "source": [
    "## Function from equation\n",
    "$$ Z = \\frac{bf}{x_1 - x_2} $$"
   ]
  },
  {
   "cell_type": "code",
   "execution_count": 4,
   "id": "9ecd25fb",
   "metadata": {},
   "outputs": [],
   "source": [
    "# Define function from equation above\n",
    "def z_solver(x1, x2, b, f):\n",
    "    return (b*f)/(x1-x2)"
   ]
  },
  {
   "cell_type": "markdown",
   "id": "bfbabb7d",
   "metadata": {},
   "source": [
    "## Coordinates of Sample Points"
   ]
  },
  {
   "cell_type": "code",
   "execution_count": null,
   "id": "e9621034",
   "metadata": {},
   "outputs": [],
   "source": [
    "# Ingest with pd.read_csv()"
   ]
  }
 ],
 "metadata": {
  "kernelspec": {
   "display_name": "spp",
   "language": "python",
   "name": "python3"
  },
  "language_info": {
   "codemirror_mode": {
    "name": "ipython",
    "version": 3
   },
   "file_extension": ".py",
   "mimetype": "text/x-python",
   "name": "python",
   "nbconvert_exporter": "python",
   "pygments_lexer": "ipython3",
   "version": "3.12.11"
  }
 },
 "nbformat": 4,
 "nbformat_minor": 5
}
