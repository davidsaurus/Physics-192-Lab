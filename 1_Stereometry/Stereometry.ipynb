{
 "cells": [
  {
   "cell_type": "markdown",
   "id": "d65c7848",
   "metadata": {},
   "source": [
    "# Stereometry Notebook"
   ]
  },
  {
   "cell_type": "markdown",
   "id": "83314494",
   "metadata": {},
   "source": [
    "## Preliminaries"
   ]
  },
  {
   "cell_type": "code",
   "execution_count": 9,
   "id": "bbea87e9",
   "metadata": {},
   "outputs": [],
   "source": [
    "import numpy as np\n",
    "import pandas as pd\n",
    "import cv2\n",
    "import matplotlib.pyplot as plt\n",
    "from mpl_toolkits import mplot3d\n",
    "import os"
   ]
  },
  {
   "cell_type": "markdown",
   "id": "46a4cee7",
   "metadata": {},
   "source": [
    "## Processing raw data"
   ]
  },
  {
   "cell_type": "markdown",
   "id": "f3c4b3a0",
   "metadata": {},
   "source": [
    "### Declaring functions"
   ]
  },
  {
   "cell_type": "code",
   "execution_count": 51,
   "id": "fc1c19cf",
   "metadata": {},
   "outputs": [],
   "source": [
    "# ======================================================\n",
    "# 1. Detect green dots in one image\n",
    "# ======================================================\n",
    "def detect_green_dots(image_path):\n",
    "    \"\"\"\n",
    "    Detect neon-green dots in an image using HSV thresholding + connected components.\n",
    "    Returns a list of (x, y) centroids.\n",
    "    \"\"\"\n",
    "    img = cv2.imread(image_path)\n",
    "    if img is None:\n",
    "        raise ValueError(f\"Could not read image: {image_path}\")\n",
    "\n",
    "    # Convert to HSV\n",
    "    hsv = cv2.cvtColor(img, cv2.COLOR_BGR2HSV)\n",
    "\n",
    "    # Define HSV threshold range for neon green points\n",
    "    lower_green = np.array([40, 100, 100])\n",
    "    upper_green = np.array([80, 255, 255])\n",
    "\n",
    "    # Apply threshold\n",
    "    mask = cv2.inRange(hsv, lower_green, upper_green)\n",
    "\n",
    "    # Morphological cleaning\n",
    "    kernel = np.ones((5, 5), np.uint8)\n",
    "    mask = cv2.morphologyEx(mask, cv2.MORPH_CLOSE, kernel)\n",
    "    mask = cv2.morphologyEx(mask, cv2.MORPH_OPEN, kernel)\n",
    "\n",
    "    # Connected components\n",
    "    num, labels, stats, centroids = cv2.connectedComponentsWithStats(mask)\n",
    "\n",
    "    points = []\n",
    "    for i in range(1, num):  # skip background\n",
    "        cx, cy = centroids[i]\n",
    "        points.append((int(cx), int(cy)))\n",
    "\n",
    "    return points\n",
    "\n",
    "def detect_red_dots(image_path):\n",
    "    \"\"\"\n",
    "    Detect neon-green dots in an image using HSV thresholding + connected components.\n",
    "    Returns a list of (x, y) centroids.\n",
    "    \"\"\"\n",
    "    img = cv2.imread(image_path)\n",
    "    if img is None:\n",
    "        raise ValueError(f\"Could not read image: {image_path}\")\n",
    "\n",
    "    # Convert to HSV\n",
    "    hsv = cv2.cvtColor(img, cv2.COLOR_BGR2HSV)\n",
    "\n",
    "    # Define HSV threshold range for neon green points\n",
    "    lower_red = np.array([160, 100, 100])\n",
    "    upper_red = np.array([179, 255, 255])\n",
    "\n",
    "    # Apply threshold\n",
    "    mask = cv2.inRange(hsv, lower_red, upper_red)\n",
    "\n",
    "    # Morphological cleaning\n",
    "    kernel = np.ones((5, 5), np.uint8)\n",
    "    mask = cv2.morphologyEx(mask, cv2.MORPH_CLOSE, kernel)\n",
    "    mask = cv2.morphologyEx(mask, cv2.MORPH_OPEN, kernel)\n",
    "\n",
    "    # Connected components\n",
    "    num, labels, stats, centroids = cv2.connectedComponentsWithStats(mask)\n",
    "\n",
    "    points = []\n",
    "    for i in range(1, num):  # skip background\n",
    "        cx, cy = centroids[i]\n",
    "        points.append((int(cx), int(cy)))\n",
    "\n",
    "    return points\n",
    "\n",
    "\n",
    "# ======================================================\n",
    "# 2. Process images (single file or folder)\n",
    "# ======================================================\n",
    "def process_images(input_path, output_folder=\"detections\"):\n",
    "    \"\"\"\n",
    "    Process either a single image or all images in a folder.\n",
    "    Each image produces its own CSV with detected green dots.\n",
    "    \"\"\"\n",
    "    if not os.path.exists(output_folder):\n",
    "        os.makedirs(output_folder)\n",
    "\n",
    "    # Case 1: single image\n",
    "    if os.path.isfile(input_path):\n",
    "        files = [input_path]\n",
    "\n",
    "    # Case 2: folder of images\n",
    "    elif os.path.isdir(input_path):\n",
    "        files = [\n",
    "            os.path.join(input_path, f)\n",
    "            for f in os.listdir(input_path)\n",
    "            if f.lower().endswith(('.png', '.jpg', '.jpeg', '.tif', '.bmp'))\n",
    "        ]\n",
    "    else:\n",
    "        raise ValueError(f\"Path not found: {input_path}\")\n",
    "\n",
    "    for f in files:\n",
    "        if \"r\" in f:\n",
    "            try:\n",
    "                detections = detect_red_dots(f)\n",
    "            except Exception as e:\n",
    "                print(f\"❌ Error processing {f}: {e}\")\n",
    "                continue\n",
    "        else: \n",
    "            try:\n",
    "                detections = detect_green_dots(f)\n",
    "            except Exception as e:\n",
    "                print(f\"❌ Error processing {f}: {e}\")\n",
    "                continue\n",
    "\n",
    "        out_name = os.path.splitext(os.path.basename(f))[0] + \".csv\"\n",
    "        out_path = os.path.join(output_folder, out_name)\n",
    "\n",
    "        df = pd.DataFrame(detections, columns=[\"x0\", \"y0\"])\n",
    "        df.to_csv(out_path, index=False)\n",
    "\n",
    "        print(f\"✅ Processed {f}, found {len(df)} dots → saved {out_path}\")\n"
   ]
  },
  {
   "cell_type": "markdown",
   "id": "57e96be0",
   "metadata": {},
   "source": [
    "### Calling functions"
   ]
  },
  {
   "cell_type": "code",
   "execution_count": 52,
   "id": "c1666f57",
   "metadata": {},
   "outputs": [
    {
     "name": "stdout",
     "output_type": "stream",
     "text": [
      "✅ Processed pics/3.jpg, found 33 dots → saved detections\\3.csv\n",
      "✅ Processed pics/3r.jpg, found 17 dots → saved detections\\3r.csv\n",
      "✅ Processed pics/4.jpg, found 33 dots → saved detections\\4.csv\n",
      "✅ Processed pics/4r.jpg, found 16 dots → saved detections\\4r.csv\n",
      "✅ Processed pics/5.jpg, found 33 dots → saved detections\\5.csv\n",
      "✅ Processed pics/5r.jpg, found 17 dots → saved detections\\5r.csv\n",
      "✅ Processed pics/6.jpg, found 33 dots → saved detections\\6.csv\n",
      "✅ Processed pics/6r.jpg, found 14 dots → saved detections\\6r.csv\n",
      "✅ Processed pics/7.jpg, found 33 dots → saved detections\\7.csv\n",
      "✅ Processed pics/7r.jpg, found 16 dots → saved detections\\7r.csv\n",
      "✅ Processed pics/8.jpg, found 33 dots → saved detections\\8.csv\n",
      "✅ Processed pics/8r.jpg, found 12 dots → saved detections\\8r.csv\n",
      "✅ Processed pics/9.jpg, found 33 dots → saved detections\\9.csv\n",
      "✅ Processed pics/9r.jpg, found 13 dots → saved detections\\9r.csv\n"
     ]
    }
   ],
   "source": [
    "for i in range(3, 10):\n",
    "    process_images(f\"pics/{i}.jpg\")\n",
    "    process_images(f\"pics/{i}r.jpg\")"
   ]
  },
  {
   "cell_type": "markdown",
   "id": "5153520b",
   "metadata": {},
   "source": [
    "## Functionalizing equation\n",
    "We are given the formula:\n",
    "$$ Z = \\frac{bf}{x_1 - x_2}. $$"
   ]
  },
  {
   "cell_type": "code",
   "execution_count": 26,
   "id": "9ecd25fb",
   "metadata": {},
   "outputs": [],
   "source": [
    "# Define function from equation above\n",
    "def z_solver(x1, x2, b, f):\n",
    "    return (b*f)/(x1-x2)"
   ]
  },
  {
   "cell_type": "markdown",
   "id": "bfbabb7d",
   "metadata": {},
   "source": [
    "## Coordinates of Sample Points"
   ]
  },
  {
   "cell_type": "code",
   "execution_count": 56,
   "id": "e9621034",
   "metadata": {},
   "outputs": [],
   "source": [
    "filename = \"3.csv\"\n",
    "file_path = os.path.join(os.getcwd(), \"detections\", filename)\n",
    "\n",
    "Data = pd.read_csv(file_path)\n",
    "\n",
    "for i in range(4, 10):\n",
    "    \n",
    "    filename = f\"{i}.csv\"\n",
    "    file_path = os.path.join(os.getcwd(), \"detections\", filename)\n",
    "    df = pd.read_csv(file_path)\n",
    "    \n",
    "    Data[f\"x{i-3}\"] = df['x0']\n",
    "\n",
    "Data = Data[['y0', 'x0', 'x1', 'x2', 'x3', 'x4', 'x5', 'x6']]\n",
    "\n",
    "### For -r pictures\n",
    "\n",
    "filename = \"3r.csv\"\n",
    "file_path = os.path.join(os.getcwd(), \"detections\", filename)\n",
    "\n",
    "rData = pd.read_csv(file_path)\n",
    "\n",
    "for i in range(4, 10):\n",
    "    \n",
    "    filename = f\"{i}r.csv\"\n",
    "    file_path = os.path.join(os.getcwd(), \"detections\", filename)\n",
    "    df = pd.read_csv(file_path)\n",
    "    \n",
    "    rData[f\"x{i-3}\"] = df['x0']"
   ]
  },
  {
   "cell_type": "code",
   "execution_count": 80,
   "id": "f806a94a",
   "metadata": {},
   "outputs": [
    {
     "data": {
      "text/html": [
       "<div>\n",
       "<style scoped>\n",
       "    .dataframe tbody tr th:only-of-type {\n",
       "        vertical-align: middle;\n",
       "    }\n",
       "\n",
       "    .dataframe tbody tr th {\n",
       "        vertical-align: top;\n",
       "    }\n",
       "\n",
       "    .dataframe thead th {\n",
       "        text-align: right;\n",
       "    }\n",
       "</style>\n",
       "<table border=\"1\" class=\"dataframe\">\n",
       "  <thead>\n",
       "    <tr style=\"text-align: right;\">\n",
       "      <th></th>\n",
       "      <th>y0</th>\n",
       "      <th>x0</th>\n",
       "      <th>x1</th>\n",
       "      <th>x2</th>\n",
       "      <th>x3</th>\n",
       "      <th>x4</th>\n",
       "      <th>x5</th>\n",
       "      <th>x6</th>\n",
       "    </tr>\n",
       "  </thead>\n",
       "  <tbody>\n",
       "    <tr>\n",
       "      <th>0</th>\n",
       "      <td>203</td>\n",
       "      <td>253</td>\n",
       "      <td>436</td>\n",
       "      <td>567</td>\n",
       "      <td>396</td>\n",
       "      <td>460</td>\n",
       "      <td>500</td>\n",
       "      <td>611</td>\n",
       "    </tr>\n",
       "    <tr>\n",
       "      <th>1</th>\n",
       "      <td>217</td>\n",
       "      <td>1975</td>\n",
       "      <td>2156</td>\n",
       "      <td>2308</td>\n",
       "      <td>1314</td>\n",
       "      <td>1374</td>\n",
       "      <td>1410</td>\n",
       "      <td>1519</td>\n",
       "    </tr>\n",
       "    <tr>\n",
       "      <th>2</th>\n",
       "      <td>626</td>\n",
       "      <td>1191</td>\n",
       "      <td>1334</td>\n",
       "      <td>1445</td>\n",
       "      <td>840</td>\n",
       "      <td>888</td>\n",
       "      <td>913</td>\n",
       "      <td>1007</td>\n",
       "    </tr>\n",
       "    <tr>\n",
       "      <th>3</th>\n",
       "      <td>723</td>\n",
       "      <td>627</td>\n",
       "      <td>791</td>\n",
       "      <td>919</td>\n",
       "      <td>573</td>\n",
       "      <td>632</td>\n",
       "      <td>664</td>\n",
       "      <td>767</td>\n",
       "    </tr>\n",
       "    <tr>\n",
       "      <th>4</th>\n",
       "      <td>732</td>\n",
       "      <td>1670</td>\n",
       "      <td>1831</td>\n",
       "      <td>1971</td>\n",
       "      <td>1128</td>\n",
       "      <td>1184</td>\n",
       "      <td>1220</td>\n",
       "      <td>1323</td>\n",
       "    </tr>\n",
       "  </tbody>\n",
       "</table>\n",
       "</div>"
      ],
      "text/plain": [
       "    y0    x0    x1    x2    x3    x4    x5    x6\n",
       "0  203   253   436   567   396   460   500   611\n",
       "1  217  1975  2156  2308  1314  1374  1410  1519\n",
       "2  626  1191  1334  1445   840   888   913  1007\n",
       "3  723   627   791   919   573   632   664   767\n",
       "4  732  1670  1831  1971  1128  1184  1220  1323"
      ]
     },
     "execution_count": 80,
     "metadata": {},
     "output_type": "execute_result"
    }
   ],
   "source": [
    "Data = Data[:21]\n",
    "Data.head()"
   ]
  },
  {
   "cell_type": "code",
   "execution_count": 130,
   "id": "b521b4aa",
   "metadata": {},
   "outputs": [],
   "source": [
    "arr0 = Data['y0'].to_numpy()\n",
    "arr1 = Data['x0'].to_numpy()\n",
    "arr2 = Data['x1'].to_numpy()\n",
    "\n",
    "arr0 = np.reshape(arr0, (7, 3))\n",
    "arr1 = np.reshape(arr1, (7, 3))\n",
    "arr2 = np.reshape(arr2, (7, 3))"
   ]
  },
  {
   "cell_type": "markdown",
   "id": "5b99d119",
   "metadata": {},
   "source": [
    "## TESTING"
   ]
  },
  {
   "cell_type": "code",
   "execution_count": 131,
   "id": "685fc90e",
   "metadata": {},
   "outputs": [],
   "source": [
    "# focal length of camera\n",
    "f = 200\n",
    "# camera transverse distance\n",
    "b = 100\n",
    "# position of points in reference images\n",
    "num_pts = 10\n",
    "c = 128\n",
    "\n",
    "# convert to numpy arrays\n",
    "x1 = arr1\n",
    "x2 = arr2\n",
    "y = arr0\n",
    "# calculation of depth\n",
    "Z = b * f / (x2 - x1)\n",
    "\n",
    "# 3D Position Calculation\n",
    "X = (x1 - c) * (Z / f)\n",
    "Y = (y - c) * (Z / f)"
   ]
  },
  {
   "cell_type": "code",
   "execution_count": 132,
   "id": "af1e2117",
   "metadata": {},
   "outputs": [
    {
     "data": {
      "image/png": "[encoded data removed]",
      "text/plain": [
       "<Figure size 640x480 with 1 Axes>"
      ]
     },
     "metadata": {},
     "output_type": "display_data"
    }
   ],
   "source": [
    "fig = plt.figure()\n",
    "ax = plt.axes(projection='3d')\n",
    "ax.plot_wireframe(X, Y, Z, color='green')\n",
    "ax.set_title('Wireframe Plot')\n",
    "\n",
    "ax.view_init(100, 90, 0)\n",
    "plt.show()"
   ]
  }
 ],
 "metadata": {
  "kernelspec": {
   "display_name": "spp",
   "language": "python",
   "name": "python3"
  },
  "language_info": {
   "codemirror_mode": {
    "name": "ipython",
    "version": 3
   },
   "file_extension": ".py",
   "mimetype": "text/x-python",
   "name": "python",
   "nbconvert_exporter": "python",
   "pygments_lexer": "ipython3",
   "version": "3.12.11"
  }
 },
 "nbformat": 4,
 "nbformat_minor": 5
}
