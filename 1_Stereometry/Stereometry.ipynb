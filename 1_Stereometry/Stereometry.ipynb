{
 "cells": [
  {
   "cell_type": "markdown",
   "id": "d65c7848",
   "metadata": {},
   "source": [
    "# Stereometry Notebook"
   ]
  },
  {
   "cell_type": "markdown",
   "id": "83314494",
   "metadata": {},
   "source": [
    "## Preliminaries"
   ]
  },
  {
   "cell_type": "code",
   "execution_count": null,
   "id": "bbea87e9",
   "metadata": {},
   "outputs": [],
   "source": [
    "import numpy as np\n",
    "import matplotlib.pyplot as plt\n",
    "import pandas as pd"
   ]
  },
  {
   "cell_type": "markdown",
   "id": "5153520b",
   "metadata": {},
   "source": [
    "## Function from Equations\n",
    "\n",
    "$$ Z = \\frac{bf}{x_1 - x_2}$$"
   ]
  },
  {
   "cell_type": "code",
   "execution_count": null,
   "id": "9ecd25fb",
   "metadata": {},
   "outputs": [],
   "source": [
    "def z_solver(x1, x2, b, f):\n",
    "    return (b*f)/(x1-x2)"
   ]
  },
  {
   "cell_type": "markdown",
   "id": "bfbabb7d",
   "metadata": {},
   "source": [
    "## Coordinates of Sample Points"
   ]
  },
  {
   "cell_type": "code",
   "execution_count": null,
   "id": "e9621034",
   "metadata": {},
   "outputs": [],
   "source": [
    "# Ingest with pd.read_csv()"
   ]
  }
 ],
 "metadata": {
  "kernelspec": {
   "display_name": "spp",
   "language": "python",
   "name": "python3"
  },
  "language_info": {
   "name": "python",
   "version": "3.12.11"
  }
 },
 "nbformat": 4,
 "nbformat_minor": 5
}
